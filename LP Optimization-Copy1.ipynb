{
 "cells": [
  {
   "cell_type": "code",
   "execution_count": 1,
   "metadata": {},
   "outputs": [],
   "source": [
    "# USD Approximate\n",
    "capitalDG = 0.9*4281 + 10*406  \n",
    "capitalRLY = 10000\n",
    "\n",
    "fee = 30 * 3   #USD\n",
    "rlyRate = 0.86*rateDrop\n",
    "dgRate = 0.4541  *rateDrop\n",
    "time = 1 #Interest Periods\n",
    "pos = False"
   ]
  },
  {
   "cell_type": "code",
   "execution_count": 2,
   "metadata": {},
   "outputs": [
    {
     "name": "stdout",
     "output_type": "stream",
     "text": [
      "freq: 1    0.0\n",
      "freq: 2    1675.7390999999989\n",
      "freq: 3    2371.0217075555556\n",
      "freq: 4    2711.8301520993846\n",
      "freq: 5    2884.065137737198\n",
      "freq: 6    2962.8693674917777\n",
      "freq: 7    2984.4759038046577\n",
      "freq: 8    2968.5187975508015\n",
      "freq: 9    2926.5653017448603\n",
      "freq: 10    2865.8741108596696\n",
      "freq: 11    2791.2310267782377\n",
      "freq: 12    2705.9196065858705\n",
      "freq: 13    2612.267812334714\n",
      "freq: 14    2511.972113594751\n",
      "Max gains for Rally at $2984 and 52 days per claim and frequency 7\n",
      "Generating $161 per week\n",
      "freq: 1    0.0\n",
      "freq: 2    625.0438447440247\n",
      "freq: 3    807.1853495362193\n",
      "freq: 4    853.0075613714871\n",
      "freq: 5    839.0758069883668\n",
      "freq: 6    793.6443471965176\n",
      "freq: 7    729.5762798826181\n",
      "freq: 8    653.5691488578923\n",
      "freq: 9    569.4541914945985\n",
      "freq: 10    479.58163475980473\n",
      "freq: 11    385.47331692565785\n",
      "freq: 12    288.15813532323955\n",
      "freq: 13    188.35669321409296\n",
      "freq: 14    86.58872848741521\n",
      "Max gains for dg at $853 and 91 days per claim and frequency 4\n",
      "Generating $125 per week\n",
      "\n",
      "$286 generated per week\n"
     ]
    }
   ],
   "source": [
    "def compound(capital,rate,time,fee,freq):\n",
    "    for i in range (1,freq+1):\n",
    "        capital = capital * (1 + (rate*time)) - fee\n",
    "    return capital\n",
    "days = []\n",
    "i = 0\n",
    "weeklyReturn = 0\n",
    "for rate in [rlyRate,dgRate]:\n",
    "    if rate == rlyRate:\n",
    "        pool = 'Rally'\n",
    "        capital = capitalRLY\n",
    "    elif rate == dgRate:\n",
    "        pool = 'dg'\n",
    "        capital = capitalDG\n",
    "    diff = 0\n",
    "    claim = 1\n",
    "    for freq in range(1,15,1): #Compounding Frequency; \n",
    "        action = compound(capital,rate,time/freq,fee,freq) \n",
    "        inaction = capital+capital * rate * time - fee\n",
    "        if action - inaction > diff:\n",
    "            diff = round(action - inaction)\n",
    "            claim = freq\n",
    "            reward = round(capital * rate * time/freq)\n",
    "        print(\"freq: \" + str(freq) + \"    \" + str(action - inaction))\n",
    "    days.append(round(365/claim))\n",
    "    weeklyReturn += round(reward*7/days[i])\n",
    "    print('Max gains for ' +str(pool) +' at $' +str(diff) + ' and ' + str(days[i]) +' days per claim and frequency '+ str(claim))\n",
    "    print('Generating $' + str(round(reward*7/days[i])) + ' per week')\n",
    "    #print(str(pool) +\"\")\n",
    "    i +=1\n",
    "    pool = 'rly'\n",
    "print('\\n$' +str(weeklyReturn) + ' generated per week')\n"
   ]
  },
  {
   "cell_type": "code",
   "execution_count": 3,
   "metadata": {},
   "outputs": [
    {
     "name": "stdout",
     "output_type": "stream",
     "text": [
      "rly staked 2 days ago\n",
      "Claim in 50 days\n",
      "\n",
      "dg staked 66 days ago\n",
      "Claim in 25 days\n"
     ]
    }
   ],
   "source": [
    "import datetime\n",
    "today = datetime.date.today()\n",
    "dgStart = datetime.date(2021,9,4)\n",
    "rlyStart =datetime.date(2021,11,7)\n",
    "rlyDays = today - rlyStart\n",
    "dgDays = today - dgStart\n",
    "print('rly staked ' + str(rlyDays.days) + ' days ago')\n",
    "print('Claim in ' +str(days[0] - round(rlyDays.days,0)) + \" days\\n\")\n",
    "print('dg staked ' + str(dgDays.days) + ' days ago')\n",
    "print('Claim in ' +str(days[1] - dgDays.days) +\" days\")"
   ]
  },
  {
   "cell_type": "code",
   "execution_count": 4,
   "metadata": {},
   "outputs": [],
   "source": [
    "APYrly = {'2021,11,7':0.8340\n",
    "         }\n"
   ]
  }
 ],
 "metadata": {
  "kernelspec": {
   "display_name": "Python 3",
   "language": "python",
   "name": "python3"
  },
  "language_info": {
   "codemirror_mode": {
    "name": "ipython",
    "version": 3
   },
   "file_extension": ".py",
   "mimetype": "text/x-python",
   "name": "python",
   "nbconvert_exporter": "python",
   "pygments_lexer": "ipython3",
   "version": "3.8.3"
  }
 },
 "nbformat": 4,
 "nbformat_minor": 4
}
