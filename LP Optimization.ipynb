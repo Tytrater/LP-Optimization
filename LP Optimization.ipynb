{
 "cells": [
  {
   "cell_type": "code",
   "execution_count": 15,
   "metadata": {},
   "outputs": [],
   "source": [
    "# USD Approximate Values of DG and RLY Liquidity Pools\n",
    "capitalDG = 10000 \n",
    "capitalRLY = 10000\n",
    "\n",
    "# Estimated gas fee for the 4 transactions needed to claim, swap 1/2 of reward to Eth, add to LP, and stake LP token\n",
    "fee = 30 * 4   #USD\n",
    "# APY Adjustment modifier to the APY to quicky test the effects of different APYs on optimal compounding rate\n",
    "adjust = 1\n",
    "# APY \n",
    "rlyRate = 0.86 * adjust\n",
    "dgRate = 0.4541 * adjust\n",
    "\n",
    "#Interest Periods\n",
    "time = 1 \n",
    "\n",
    "# Boolean to flag a positive rate of change because idk how to find derivatives of iterated functions in Python\n",
    "pos = False"
   ]
  },
  {
   "cell_type": "code",
   "execution_count": 16,
   "metadata": {},
   "outputs": [
    {
     "name": "stdout",
     "output_type": "stream",
     "text": [
      "freq: 2    1677.3999999999978\n",
      "freq: 3    2347.8482962962917\n",
      "freq: 4    2654.2219012500027\n",
      "freq: 5    2787.451924889596\n",
      "freq: 6    2824.7168015030766\n",
      "freq: 7    2803.2318760546004\n",
      "freq: 8    2743.1637216024646\n",
      "freq: 9    2656.3934236333153\n",
      "Max gains for Rally at $2825 and 61 days per claim and frequency 6\n",
      "Generating $164 per week\n",
      "freq: 2    368.271025\n",
      "freq: 3    424.795539726294\n",
      "freq: 4    385.36081752149767\n",
      "freq: 5    303.86198247329776\n",
      "freq: 6    200.18831402482283\n",
      "freq: 7    83.39486649808896\n",
      "freq: 8    -41.80350948633895\n",
      "freq: 9    -172.70971818342878\n",
      "Max gains for dg at $425 and 122 days per claim and frequency 3\n",
      "Generating $87 per week\n",
      "\n",
      "$251 generated per week\n"
     ]
    }
   ],
   "source": [
    "# Compound function to determine portfolio value after compounding\n",
    "def compound(capital,rate,time,fee,freq):\n",
    "    for i in range (1,freq+1):\n",
    "        capital = capital * (1 + (rate*time)) - fee\n",
    "    return capital\n",
    "\n",
    "days = []\n",
    "i = 0\n",
    "weeklyReturn = 0\n",
    "# Loop through each Liquidity Pool\n",
    "for rate in [rlyRate,dgRate]:\n",
    "    if rate == rlyRate:\n",
    "        # Identify Liquidity Pool and retrieve intial capital \n",
    "        pool = 'Rally'\n",
    "        capital = capitalRLY\n",
    "    elif rate == dgRate:\n",
    "        # Identify Liquidity Pool and retrieve intial capital \n",
    "        pool = 'dg'\n",
    "        capital = capitalDG\n",
    "    diff = 0\n",
    "    claim = 1\n",
    "    # Compounding Frequencies to compare\n",
    "    for freq in range(2,10,1):  \n",
    "        # Calculate the portfolio size when compounded with a given frequency\n",
    "        action = compound(capital,rate,time/freq,fee,freq) \n",
    "        # Calculate the portfolio size over the same time horizon, but claimed only once at the end.\n",
    "        inaction = capital+capital * rate * time - fee\n",
    "        # Subtract the two portfolio sizes. The frequency with the largest portfolio size will be saved and displayed\n",
    "        if action - inaction > diff:\n",
    "            diff = round(action - inaction)\n",
    "            claim = freq\n",
    "            reward = round(capital * rate * time/freq)\n",
    "        print(\"freq: \" + str(freq) + \"    \" + str(action - inaction))\n",
    "    # Determine the number of days between each compounding event\n",
    "    days.append(round(365/claim))\n",
    "    # Determine the total weekly return of all Liquidity Pools\n",
    "    weeklyReturn += round(reward*7/days[i])\n",
    "    # Print optimal compounding frequency\n",
    "    print('Max gains for ' +str(pool) +' at $' +str(diff) + ' and ' + str(days[i]) +' days per claim and frequency '+ str(claim))\n",
    "    print('Generating $' + str(round(reward*7/days[i])) + ' per week')\n",
    "    i +=1\n",
    "# Print total weekly return of all Liquidity Pools\n",
    "print('\\n$' +str(weeklyReturn) + ' generated per week')\n"
   ]
  },
  {
   "cell_type": "code",
   "execution_count": 17,
   "metadata": {},
   "outputs": [
    {
     "name": "stdout",
     "output_type": "stream",
     "text": [
      "rly staked 5 days ago\n",
      "Claim in 56 days\n",
      "\n",
      "dg staked 69 days ago\n",
      "Claim in 53 days\n"
     ]
    }
   ],
   "source": [
    "# datetime functions to display number of days until the next compounding event\n",
    "import datetime\n",
    "today = datetime.date.today()\n",
    "dgStart = datetime.date(2021,9,4)\n",
    "rlyStart =datetime.date(2021,11,7)\n",
    "rlyDays = today - rlyStart\n",
    "dgDays = today - dgStart\n",
    "print('rly staked ' + str(rlyDays.days) + ' days ago')\n",
    "print('Claim in ' +str(days[0] - round(rlyDays.days,0)) + \" days\\n\")\n",
    "print('dg staked ' + str(dgDays.days) + ' days ago')\n",
    "print('Claim in ' +str(days[1] - dgDays.days) +\" days\")"
   ]
  },
  {
   "cell_type": "code",
   "execution_count": 18,
   "metadata": {},
   "outputs": [],
   "source": [
    "# Dictionary to store past APY values to find average APYs through the compounding period\n",
    "APYrly = {'2021,11,7':0.8340\n",
    "         }\n"
   ]
  }
 ],
 "metadata": {
  "kernelspec": {
   "display_name": "Python 3",
   "language": "python",
   "name": "python3"
  },
  "language_info": {
   "codemirror_mode": {
    "name": "ipython",
    "version": 3
   },
   "file_extension": ".py",
   "mimetype": "text/x-python",
   "name": "python",
   "nbconvert_exporter": "python",
   "pygments_lexer": "ipython3",
   "version": "3.8.3"
  }
 },
 "nbformat": 4,
 "nbformat_minor": 4
}
